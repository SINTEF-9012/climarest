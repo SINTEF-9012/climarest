{
 "cells": [
  {
   "cell_type": "code",
   "execution_count": 1,
   "id": "0730fe7c-378f-48d9-85ee-66dbf8d94d21",
   "metadata": {},
   "outputs": [],
   "source": [
    "# On the EDITO jupyter-python-ocean-science image, geopandas is missing\n",
    "# Let's install it\n",
    "# !mamba install --yes --quiet geopandas"
   ]
  },
  {
   "cell_type": "code",
   "execution_count": 2,
   "id": "9e5d8b6d-a0f9-43de-9163-a1436ef03dff",
   "metadata": {},
   "outputs": [],
   "source": [
    "%matplotlib inline"
   ]
  },
  {
   "cell_type": "code",
   "execution_count": 3,
   "id": "c2c4f750-7e3c-465e-a6af-d777b366a27c",
   "metadata": {},
   "outputs": [],
   "source": [
    "import matplotlib.pyplot as plt\n",
    "import geopandas as gpd\n",
    "import copernicusmarine\n",
    "import datetime\n",
    "import shapely\n",
    "# import pickle\n",
    "import numpy as np"
   ]
  },
  {
   "cell_type": "markdown",
   "id": "8efa6986-b60b-4352-a94c-d1d48327d968",
   "metadata": {},
   "source": [
    "# Load Sites "
   ]
  },
  {
   "cell_type": "code",
   "execution_count": 4,
   "id": "6bcba712-51df-497d-9b39-7623ae31078b",
   "metadata": {},
   "outputs": [
    {
     "data": {
      "text/html": [
       "<div>\n",
       "<style scoped>\n",
       "    .dataframe tbody tr th:only-of-type {\n",
       "        vertical-align: middle;\n",
       "    }\n",
       "\n",
       "    .dataframe tbody tr th {\n",
       "        vertical-align: top;\n",
       "    }\n",
       "\n",
       "    .dataframe thead th {\n",
       "        text-align: right;\n",
       "    }\n",
       "</style>\n",
       "<table border=\"1\" class=\"dataframe\">\n",
       "  <thead>\n",
       "    <tr style=\"text-align: right;\">\n",
       "      <th></th>\n",
       "      <th>name</th>\n",
       "      <th>geometry</th>\n",
       "      <th>centroid</th>\n",
       "    </tr>\n",
       "  </thead>\n",
       "  <tbody>\n",
       "    <tr>\n",
       "      <th>0</th>\n",
       "      <td>Ría de Arousa</td>\n",
       "      <td>POLYGON ((-8.95 42.54, -8.75 42.54, -8.75 42.6...</td>\n",
       "      <td>POINT (-8.85 42.61002)</td>\n",
       "    </tr>\n",
       "    <tr>\n",
       "      <th>1</th>\n",
       "      <td>Ría de Vigo</td>\n",
       "      <td>POLYGON ((-8.82 42.2, -8.64 42.2, -8.64 42.32,...</td>\n",
       "      <td>POINT (-8.73 42.26002)</td>\n",
       "    </tr>\n",
       "    <tr>\n",
       "      <th>2</th>\n",
       "      <td>Ría de Pontevedra</td>\n",
       "      <td>POLYGON ((-8.85 42.34, -8.71 42.34, -8.71 42.4...</td>\n",
       "      <td>POINT (-8.78 42.39001)</td>\n",
       "    </tr>\n",
       "    <tr>\n",
       "      <th>3</th>\n",
       "      <td>Ría de Muros e Noia</td>\n",
       "      <td>POLYGON ((-9.08 42.72, -8.85 42.72, -8.85 42.8...</td>\n",
       "      <td>POINT (-8.96501 42.79503)</td>\n",
       "    </tr>\n",
       "  </tbody>\n",
       "</table>\n",
       "</div>"
      ],
      "text/plain": [
       "                  name                                           geometry  \\\n",
       "0        Ría de Arousa  POLYGON ((-8.95 42.54, -8.75 42.54, -8.75 42.6...   \n",
       "1          Ría de Vigo  POLYGON ((-8.82 42.2, -8.64 42.2, -8.64 42.32,...   \n",
       "2    Ría de Pontevedra  POLYGON ((-8.85 42.34, -8.71 42.34, -8.71 42.4...   \n",
       "3  Ría de Muros e Noia  POLYGON ((-9.08 42.72, -8.85 42.72, -8.85 42.8...   \n",
       "\n",
       "                    centroid  \n",
       "0     POINT (-8.85 42.61002)  \n",
       "1     POINT (-8.73 42.26002)  \n",
       "2     POINT (-8.78 42.39001)  \n",
       "3  POINT (-8.96501 42.79503)  "
      ]
     },
     "execution_count": 4,
     "metadata": {},
     "output_type": "execute_result"
    }
   ],
   "source": [
    "def _load_locations():\n",
    "    fname = '../data/galicia_mussel_farms.geojson'\n",
    "    # gdf_aoi = gpd.read_file(fname)\n",
    "    # # return gdf_aoi.head(1).geometry.bounds\n",
    "    # return gdf_aoi.head(1).geometry.bounds.values.tolist()[0]\n",
    "    gdf_aoi = gpd.read_file('../data/galicia_mussel_farms.geojson')\n",
    "    gdf_aoi['centroid'] = gdf_aoi.geometry.to_crs(epsg=25830).centroid.to_crs(epsg=4326)\n",
    "    return gdf_aoi\n",
    "    \n",
    "locations = _load_locations()\n",
    "locations"
   ]
  },
  {
   "cell_type": "code",
   "execution_count": 10,
   "id": "48b8fa39-f9d0-4235-ac29-5d205f34d871",
   "metadata": {},
   "outputs": [
    {
     "name": "stdout",
     "output_type": "stream",
     "text": [
      "-8.850003718013262\n",
      "-8.730003342871981\n",
      "-8.780001741153763\n",
      "-8.96500572140616\n"
     ]
    }
   ],
   "source": [
    "for row in locations.itertuples():\n",
    "    print(row.centroid.x)"
   ]
  },
  {
   "cell_type": "markdown",
   "id": "00e0c027-33ee-4fcd-bb47-80ff2002a632",
   "metadata": {},
   "source": [
    "# Load Time-Series for Sites"
   ]
  },
  {
   "cell_type": "code",
   "execution_count": 5,
   "id": "57a03bd4-5d59-455e-b44c-430c955ad0c2",
   "metadata": {},
   "outputs": [
    {
     "name": "stderr",
     "output_type": "stream",
     "text": [
      "INFO - 2025-05-22T08:29:53Z - Selected dataset version: \"202411\"\n",
      "INFO - 2025-05-22T08:29:53Z - Selected dataset part: \"default\"\n"
     ]
    }
   ],
   "source": [
    "def _load_and_average_data_for_location(bounds, tlo, thi):\n",
    "    xlo, ylo, xhi, yhi = bounds\n",
    "    data_request = {\n",
    "        \"dataset_id\": \"cmems_mod_ibi_phy_anfc_0.027deg-2D_PT1H-m\",\n",
    "        \"longitude\" : [xlo, xhi],\n",
    "        \"latitude\" : [ylo, yhi],\n",
    "        \"time\" : [tlo, thi],\n",
    "        \"variables\" : [\"thetao\", \"zos\"] \n",
    "    }\n",
    "    dset = copernicusmarine.open_dataset(\n",
    "        dataset_id = data_request[\"dataset_id\"],\n",
    "        minimum_longitude = data_request[\"longitude\"][0],\n",
    "        maximum_longitude = data_request[\"longitude\"][1],\n",
    "        minimum_latitude = data_request[\"latitude\"][0],\n",
    "        maximum_latitude = data_request[\"latitude\"][1],\n",
    "        start_datetime = data_request[\"time\"][0],\n",
    "        end_datetime = data_request[\"time\"][1],\n",
    "        variables = data_request[\"variables\"]\n",
    "    )\n",
    "    df = dset.to_dataframe()\n",
    "    df = df.groupby('time').agg({\n",
    "        \"thetao\": \"mean\",\n",
    "        \"zos\": \"mean\",\n",
    "    })\n",
    "    return df\n",
    "\n",
    "geometry = locations.iloc[0].geometry\n",
    "bounds = shapely.bounds(geometry)\n",
    "\n",
    "# tlo = datetime.datetime.now().isoformat()\n",
    "now = datetime.datetime.now()\n",
    "tlo = datetime.datetime(now.year, now.month, now.day, now.hour).isoformat()\n",
    "thi = (datetime.datetime.now() + datetime.timedelta(hours=3)).isoformat()\n",
    "\n",
    "df = _load_and_average_data_for_location(bounds, tlo, thi)"
   ]
  },
  {
   "cell_type": "code",
   "execution_count": 6,
   "id": "964715dd-4f3d-40fa-8807-217fdd9e818e",
   "metadata": {},
   "outputs": [
    {
     "data": {
      "text/html": [
       "<div>\n",
       "<style scoped>\n",
       "    .dataframe tbody tr th:only-of-type {\n",
       "        vertical-align: middle;\n",
       "    }\n",
       "\n",
       "    .dataframe tbody tr th {\n",
       "        vertical-align: top;\n",
       "    }\n",
       "\n",
       "    .dataframe thead th {\n",
       "        text-align: right;\n",
       "    }\n",
       "</style>\n",
       "<table border=\"1\" class=\"dataframe\">\n",
       "  <thead>\n",
       "    <tr style=\"text-align: right;\">\n",
       "      <th></th>\n",
       "      <th>thetao</th>\n",
       "      <th>zos</th>\n",
       "    </tr>\n",
       "    <tr>\n",
       "      <th>time</th>\n",
       "      <th></th>\n",
       "      <th></th>\n",
       "    </tr>\n",
       "  </thead>\n",
       "  <tbody>\n",
       "    <tr>\n",
       "      <th>2025-05-22 10:00:00</th>\n",
       "      <td>17.167000</td>\n",
       "      <td>0.404667</td>\n",
       "    </tr>\n",
       "    <tr>\n",
       "      <th>2025-05-22 11:00:00</th>\n",
       "      <td>17.233000</td>\n",
       "      <td>0.423333</td>\n",
       "    </tr>\n",
       "    <tr>\n",
       "      <th>2025-05-22 12:00:00</th>\n",
       "      <td>17.316667</td>\n",
       "      <td>0.206000</td>\n",
       "    </tr>\n",
       "    <tr>\n",
       "      <th>2025-05-22 13:00:00</th>\n",
       "      <td>17.408000</td>\n",
       "      <td>-0.216667</td>\n",
       "    </tr>\n",
       "  </tbody>\n",
       "</table>\n",
       "</div>"
      ],
      "text/plain": [
       "                        thetao       zos\n",
       "time                                    \n",
       "2025-05-22 10:00:00  17.167000  0.404667\n",
       "2025-05-22 11:00:00  17.233000  0.423333\n",
       "2025-05-22 12:00:00  17.316667  0.206000\n",
       "2025-05-22 13:00:00  17.408000 -0.216667"
      ]
     },
     "execution_count": 6,
     "metadata": {},
     "output_type": "execute_result"
    }
   ],
   "source": [
    "df"
   ]
  },
  {
   "cell_type": "code",
   "execution_count": 7,
   "id": "f9e6ed5d-a7f5-4d4a-890f-7633c451aac2",
   "metadata": {},
   "outputs": [
    {
     "name": "stdout",
     "output_type": "stream",
     "text": [
      "Ría de Arousa\n"
     ]
    },
    {
     "name": "stderr",
     "output_type": "stream",
     "text": [
      "INFO - 2025-05-22T08:30:01Z - Selected dataset version: \"202411\"\n",
      "INFO - 2025-05-22T08:30:01Z - Selected dataset part: \"default\"\n"
     ]
    },
    {
     "name": "stdout",
     "output_type": "stream",
     "text": [
      "Ría de Vigo\n"
     ]
    },
    {
     "name": "stderr",
     "output_type": "stream",
     "text": [
      "INFO - 2025-05-22T08:30:05Z - Selected dataset version: \"202411\"\n",
      "INFO - 2025-05-22T08:30:05Z - Selected dataset part: \"default\"\n"
     ]
    },
    {
     "name": "stdout",
     "output_type": "stream",
     "text": [
      "Ría de Pontevedra\n"
     ]
    },
    {
     "name": "stderr",
     "output_type": "stream",
     "text": [
      "INFO - 2025-05-22T08:30:09Z - Selected dataset version: \"202411\"\n",
      "INFO - 2025-05-22T08:30:09Z - Selected dataset part: \"default\"\n"
     ]
    },
    {
     "name": "stdout",
     "output_type": "stream",
     "text": [
      "Ría de Muros e Noia\n"
     ]
    },
    {
     "name": "stderr",
     "output_type": "stream",
     "text": [
      "INFO - 2025-05-22T08:30:13Z - Selected dataset version: \"202411\"\n",
      "INFO - 2025-05-22T08:30:13Z - Selected dataset part: \"default\"\n"
     ]
    }
   ],
   "source": [
    "def _load_and_average_data_for_all_locations(locations, tlo, thi):\n",
    "    frames = {}\n",
    "    for row in locations.itertuples():\n",
    "        print(row.name)\n",
    "        frames[row.name] = _load_and_average_data_for_location(\n",
    "            shapely.bounds(row.geometry),\n",
    "            tlo,\n",
    "            thi,\n",
    "        )\n",
    "    return frames\n",
    "\n",
    "# tlo = datetime.datetime.now().isoformat()\n",
    "now = datetime.datetime.now()\n",
    "tlo = datetime.datetime(now.year, now.month, now.day, now.hour).isoformat()\n",
    "thi = (datetime.datetime.now() + datetime.timedelta(hours=3)).isoformat()\n",
    "\n",
    "frames = _load_and_average_data_for_all_locations(locations, tlo, thi)"
   ]
  },
  {
   "cell_type": "code",
   "execution_count": 8,
   "id": "9cca3d28-5d34-49ad-abe2-eb0fe0aadf4c",
   "metadata": {},
   "outputs": [
    {
     "name": "stdout",
     "output_type": "stream",
     "text": [
      "Ría de Arousa\n",
      "                        thetao       zos\n",
      "time                                    \n",
      "2025-05-22 10:00:00  17.167000  0.404667\n",
      "2025-05-22 11:00:00  17.233000  0.423333\n",
      "2025-05-22 12:00:00  17.316667  0.206000\n",
      "2025-05-22 13:00:00  17.408000 -0.216667\n",
      "***\n",
      "Ría de Vigo\n",
      "                      thetao     zos\n",
      "time                                \n",
      "2025-05-22 10:00:00  16.7675  0.3805\n",
      "2025-05-22 11:00:00  16.8540  0.3940\n",
      "2025-05-22 12:00:00  16.9500  0.1675\n",
      "2025-05-22 13:00:00  17.0495 -0.2440\n",
      "***\n",
      "Ría de Pontevedra\n",
      "                     thetao    zos\n",
      "time                              \n",
      "2025-05-22 10:00:00  17.199  0.388\n",
      "2025-05-22 11:00:00  17.280  0.405\n",
      "2025-05-22 12:00:00  17.375  0.181\n",
      "2025-05-22 13:00:00  17.476 -0.230\n",
      "***\n",
      "Ría de Muros e Noia\n",
      "                        thetao       zos\n",
      "time                                    \n",
      "2025-05-22 10:00:00  16.355334  0.389667\n",
      "2025-05-22 11:00:00  16.429667  0.425000\n",
      "2025-05-22 12:00:00  16.507334  0.212667\n",
      "2025-05-22 13:00:00  16.574000 -0.196333\n",
      "***\n"
     ]
    }
   ],
   "source": [
    "for site_name, df in frames.items():\n",
    "    print(site_name)\n",
    "    print(df)\n",
    "    print('***')"
   ]
  }
 ],
 "metadata": {
  "kernelspec": {
   "display_name": "Python 3 (ipykernel)",
   "language": "python",
   "name": "python3"
  },
  "language_info": {
   "codemirror_mode": {
    "name": "ipython",
    "version": 3
   },
   "file_extension": ".py",
   "mimetype": "text/x-python",
   "name": "python",
   "nbconvert_exporter": "python",
   "pygments_lexer": "ipython3",
   "version": "3.11.12"
  }
 },
 "nbformat": 4,
 "nbformat_minor": 5
}
