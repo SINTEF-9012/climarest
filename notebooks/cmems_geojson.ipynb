{
 "cells": [
  {
   "cell_type": "code",
   "execution_count": 1,
   "id": "54d0e44f-ca36-417d-a5dd-5501f7c61086",
   "metadata": {},
   "outputs": [
    {
     "name": "stderr",
     "output_type": "stream",
     "text": [
      "/Users/volkerh/miniforge3/envs/climarest/lib/python3.11/site-packages/tqdm/auto.py:21: TqdmWarning: IProgress not found. Please update jupyter and ipywidgets. See https://ipywidgets.readthedocs.io/en/stable/user_install.html\n",
      "  from .autonotebook import tqdm as notebook_tqdm\n"
     ]
    }
   ],
   "source": [
    "import geopandas as gpd\n",
    "import copernicusmarine"
   ]
  },
  {
   "cell_type": "code",
   "execution_count": 2,
   "id": "839ab828-44ba-4011-b412-72e3ab38decb",
   "metadata": {},
   "outputs": [],
   "source": [
    "fname = '../data/galicia_mussel_farms.geojson'\n",
    "gdf_aoi = gpd.read_file(fname)"
   ]
  },
  {
   "cell_type": "code",
   "execution_count": 3,
   "id": "f427da18-4ae1-454e-a4a4-016673368a4c",
   "metadata": {},
   "outputs": [
    {
     "data": {
      "text/html": [
       "<div>\n",
       "<style scoped>\n",
       "    .dataframe tbody tr th:only-of-type {\n",
       "        vertical-align: middle;\n",
       "    }\n",
       "\n",
       "    .dataframe tbody tr th {\n",
       "        vertical-align: top;\n",
       "    }\n",
       "\n",
       "    .dataframe thead th {\n",
       "        text-align: right;\n",
       "    }\n",
       "</style>\n",
       "<table border=\"1\" class=\"dataframe\">\n",
       "  <thead>\n",
       "    <tr style=\"text-align: right;\">\n",
       "      <th></th>\n",
       "      <th>name</th>\n",
       "      <th>geometry</th>\n",
       "    </tr>\n",
       "  </thead>\n",
       "  <tbody>\n",
       "    <tr>\n",
       "      <th>0</th>\n",
       "      <td>Ría de Arousa</td>\n",
       "      <td>POLYGON ((-8.95 42.54, -8.75 42.54, -8.75 42.6...</td>\n",
       "    </tr>\n",
       "    <tr>\n",
       "      <th>1</th>\n",
       "      <td>Ría de Vigo</td>\n",
       "      <td>POLYGON ((-8.82 42.2, -8.64 42.2, -8.64 42.32,...</td>\n",
       "    </tr>\n",
       "    <tr>\n",
       "      <th>2</th>\n",
       "      <td>Ría de Pontevedra</td>\n",
       "      <td>POLYGON ((-8.85 42.34, -8.71 42.34, -8.71 42.4...</td>\n",
       "    </tr>\n",
       "    <tr>\n",
       "      <th>3</th>\n",
       "      <td>Ría de Muros e Noia</td>\n",
       "      <td>POLYGON ((-9.08 42.72, -8.85 42.72, -8.85 42.8...</td>\n",
       "    </tr>\n",
       "  </tbody>\n",
       "</table>\n",
       "</div>"
      ],
      "text/plain": [
       "                  name                                           geometry\n",
       "0        Ría de Arousa  POLYGON ((-8.95 42.54, -8.75 42.54, -8.75 42.6...\n",
       "1          Ría de Vigo  POLYGON ((-8.82 42.2, -8.64 42.2, -8.64 42.32,...\n",
       "2    Ría de Pontevedra  POLYGON ((-8.85 42.34, -8.71 42.34, -8.71 42.4...\n",
       "3  Ría de Muros e Noia  POLYGON ((-9.08 42.72, -8.85 42.72, -8.85 42.8..."
      ]
     },
     "execution_count": 3,
     "metadata": {},
     "output_type": "execute_result"
    }
   ],
   "source": [
    "gdf_aoi"
   ]
  },
  {
   "cell_type": "code",
   "execution_count": 4,
   "id": "cd7be506-9ff8-4798-a056-cf3cfb3db58a",
   "metadata": {},
   "outputs": [
    {
     "data": {
      "text/html": [
       "<div>\n",
       "<style scoped>\n",
       "    .dataframe tbody tr th:only-of-type {\n",
       "        vertical-align: middle;\n",
       "    }\n",
       "\n",
       "    .dataframe tbody tr th {\n",
       "        vertical-align: top;\n",
       "    }\n",
       "\n",
       "    .dataframe thead th {\n",
       "        text-align: right;\n",
       "    }\n",
       "</style>\n",
       "<table border=\"1\" class=\"dataframe\">\n",
       "  <thead>\n",
       "    <tr style=\"text-align: right;\">\n",
       "      <th></th>\n",
       "      <th>minx</th>\n",
       "      <th>miny</th>\n",
       "      <th>maxx</th>\n",
       "      <th>maxy</th>\n",
       "    </tr>\n",
       "  </thead>\n",
       "  <tbody>\n",
       "    <tr>\n",
       "      <th>0</th>\n",
       "      <td>-8.95</td>\n",
       "      <td>42.54</td>\n",
       "      <td>-8.75</td>\n",
       "      <td>42.68</td>\n",
       "    </tr>\n",
       "  </tbody>\n",
       "</table>\n",
       "</div>"
      ],
      "text/plain": [
       "   minx   miny  maxx   maxy\n",
       "0 -8.95  42.54 -8.75  42.68"
      ]
     },
     "execution_count": 4,
     "metadata": {},
     "output_type": "execute_result"
    }
   ],
   "source": [
    "gdf_aoi.head(1).geometry.bounds"
   ]
  },
  {
   "cell_type": "code",
   "execution_count": 5,
   "id": "9d0bf603-5cfd-4825-a610-7a6f51c54b9a",
   "metadata": {},
   "outputs": [
    {
     "data": {
      "text/plain": [
       "np.float64(-8.95)"
      ]
     },
     "execution_count": 5,
     "metadata": {},
     "output_type": "execute_result"
    }
   ],
   "source": [
    "gdf_aoi.head(1).geometry.bounds.minx.iloc[0]"
   ]
  },
  {
   "cell_type": "code",
   "execution_count": 6,
   "id": "81f81fce-f32a-4f34-956f-4cd4c7ef544b",
   "metadata": {},
   "outputs": [
    {
     "data": {
      "text/plain": [
       "[-8.95, 42.54, -8.75, 42.68]"
      ]
     },
     "execution_count": 6,
     "metadata": {},
     "output_type": "execute_result"
    }
   ],
   "source": [
    "gdf_aoi.head(1).geometry.bounds.values.tolist()[0]"
   ]
  },
  {
   "cell_type": "code",
   "execution_count": 7,
   "id": "85f6b663-a025-42a4-9d12-a2669559516d",
   "metadata": {},
   "outputs": [],
   "source": [
    "# calculate centroid\n",
    "gdf_aoi['centroid'] = gdf_aoi.geometry.to_crs(epsg=25830).centroid.to_crs(epsg=4326)"
   ]
  },
  {
   "cell_type": "code",
   "execution_count": 8,
   "id": "ec9b7213-ad74-4084-924f-f172d44d233b",
   "metadata": {},
   "outputs": [
    {
     "data": {
      "text/html": [
       "<div>\n",
       "<style scoped>\n",
       "    .dataframe tbody tr th:only-of-type {\n",
       "        vertical-align: middle;\n",
       "    }\n",
       "\n",
       "    .dataframe tbody tr th {\n",
       "        vertical-align: top;\n",
       "    }\n",
       "\n",
       "    .dataframe thead th {\n",
       "        text-align: right;\n",
       "    }\n",
       "</style>\n",
       "<table border=\"1\" class=\"dataframe\">\n",
       "  <thead>\n",
       "    <tr style=\"text-align: right;\">\n",
       "      <th></th>\n",
       "      <th>name</th>\n",
       "      <th>geometry</th>\n",
       "      <th>centroid</th>\n",
       "    </tr>\n",
       "  </thead>\n",
       "  <tbody>\n",
       "    <tr>\n",
       "      <th>0</th>\n",
       "      <td>Ría de Arousa</td>\n",
       "      <td>POLYGON ((-8.95 42.54, -8.75 42.54, -8.75 42.6...</td>\n",
       "      <td>POINT (-8.85 42.61002)</td>\n",
       "    </tr>\n",
       "    <tr>\n",
       "      <th>1</th>\n",
       "      <td>Ría de Vigo</td>\n",
       "      <td>POLYGON ((-8.82 42.2, -8.64 42.2, -8.64 42.32,...</td>\n",
       "      <td>POINT (-8.73 42.26002)</td>\n",
       "    </tr>\n",
       "    <tr>\n",
       "      <th>2</th>\n",
       "      <td>Ría de Pontevedra</td>\n",
       "      <td>POLYGON ((-8.85 42.34, -8.71 42.34, -8.71 42.4...</td>\n",
       "      <td>POINT (-8.78 42.39001)</td>\n",
       "    </tr>\n",
       "    <tr>\n",
       "      <th>3</th>\n",
       "      <td>Ría de Muros e Noia</td>\n",
       "      <td>POLYGON ((-9.08 42.72, -8.85 42.72, -8.85 42.8...</td>\n",
       "      <td>POINT (-8.96501 42.79503)</td>\n",
       "    </tr>\n",
       "  </tbody>\n",
       "</table>\n",
       "</div>"
      ],
      "text/plain": [
       "                  name                                           geometry  \\\n",
       "0        Ría de Arousa  POLYGON ((-8.95 42.54, -8.75 42.54, -8.75 42.6...   \n",
       "1          Ría de Vigo  POLYGON ((-8.82 42.2, -8.64 42.2, -8.64 42.32,...   \n",
       "2    Ría de Pontevedra  POLYGON ((-8.85 42.34, -8.71 42.34, -8.71 42.4...   \n",
       "3  Ría de Muros e Noia  POLYGON ((-9.08 42.72, -8.85 42.72, -8.85 42.8...   \n",
       "\n",
       "                    centroid  \n",
       "0     POINT (-8.85 42.61002)  \n",
       "1     POINT (-8.73 42.26002)  \n",
       "2     POINT (-8.78 42.39001)  \n",
       "3  POINT (-8.96501 42.79503)  "
      ]
     },
     "execution_count": 8,
     "metadata": {},
     "output_type": "execute_result"
    }
   ],
   "source": [
    "gdf_aoi"
   ]
  },
  {
   "cell_type": "code",
   "execution_count": null,
   "id": "0d4cfb33-e26b-4e9f-97ba-f9524c328edf",
   "metadata": {},
   "outputs": [],
   "source": []
  }
 ],
 "metadata": {
  "kernelspec": {
   "display_name": "Python 3 (ipykernel)",
   "language": "python",
   "name": "python3"
  },
  "language_info": {
   "codemirror_mode": {
    "name": "ipython",
    "version": 3
   },
   "file_extension": ".py",
   "mimetype": "text/x-python",
   "name": "python",
   "nbconvert_exporter": "python",
   "pygments_lexer": "ipython3",
   "version": "3.11.12"
  }
 },
 "nbformat": 4,
 "nbformat_minor": 5
}
