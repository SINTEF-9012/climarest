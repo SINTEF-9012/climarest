{
 "cells": [
  {
   "cell_type": "code",
   "execution_count": 1,
   "id": "9e5d8b6d-a0f9-43de-9163-a1436ef03dff",
   "metadata": {},
   "outputs": [],
   "source": [
    "%matplotlib inline"
   ]
  },
  {
   "cell_type": "code",
   "execution_count": 2,
   "id": "c2c4f750-7e3c-465e-a6af-d777b366a27c",
   "metadata": {},
   "outputs": [
    {
     "name": "stderr",
     "output_type": "stream",
     "text": [
      "/Users/volkerh/miniforge3/envs/climarest/lib/python3.11/site-packages/tqdm/auto.py:21: TqdmWarning: IProgress not found. Please update jupyter and ipywidgets. See https://ipywidgets.readthedocs.io/en/stable/user_install.html\n",
      "  from .autonotebook import tqdm as notebook_tqdm\n"
     ]
    }
   ],
   "source": [
    "import matplotlib.pyplot as plt\n",
    "import geopandas as gpd\n",
    "import copernicusmarine\n",
    "import datetime"
   ]
  },
  {
   "cell_type": "code",
   "execution_count": 3,
   "id": "6bcba712-51df-497d-9b39-7623ae31078b",
   "metadata": {},
   "outputs": [
    {
     "name": "stdout",
     "output_type": "stream",
     "text": [
      "[-8.95, 42.54, -8.75, 42.68]\n"
     ]
    }
   ],
   "source": [
    "def _load_aoi():\n",
    "    fname = '../data/galicia_mussel_farms.geojson'\n",
    "    gdf_aoi = gpd.read_file(fname)\n",
    "    # return gdf_aoi.head(1).geometry.bounds\n",
    "    return gdf_aoi.head(1).geometry.bounds.values.tolist()[0]\n",
    "\n",
    "bounds = _load_aoi()\n",
    "print(bounds)"
   ]
  },
  {
   "cell_type": "code",
   "execution_count": 4,
   "id": "fca9830c-6a90-4b98-8256-e32215aa3f84",
   "metadata": {},
   "outputs": [
    {
     "name": "stderr",
     "output_type": "stream",
     "text": [
      "INFO - 2025-05-12T12:04:53Z - Selected dataset version: \"202411\"\n",
      "INFO - 2025-05-12T12:04:53Z - Selected dataset part: \"default\"\n"
     ]
    }
   ],
   "source": [
    "def _load_ocean_model(minx, miny, maxx, maxy, mint, maxt):\n",
    "    # Set parameters\n",
    "    data_request = {\n",
    "       # \"dataset_id\" : \"cmems_mod_ibi_phy_anfc_0.027deg-3D_PT1H-m\",  # 3D, hourly\n",
    "       \"dataset_id\" : \"cmems_mod_ibi_phy_anfc_0.027deg-2D_PT1H-m\",  # 2D, hourly\n",
    "       \"longitude\" : [minx, maxx], \n",
    "       \"latitude\" : [miny, maxy],\n",
    "       \"time\" : [tlo, thi],\n",
    "       \"variables\" : [\"thetao\"]  # sea water potential temperature in C\n",
    "    }\n",
    "    \n",
    "    # Load xarray dataset\n",
    "    # dset = copernicusmarine.open_dataset(\n",
    "    #     dataset_id = data_request[\"dataset_id\"],\n",
    "    #     minimum_longitude = data_request[\"longitude\"][0],\n",
    "    #     maximum_longitude = data_request[\"longitude\"][1],\n",
    "    #     minimum_latitude = data_request[\"latitude\"][0],\n",
    "    #     maximum_latitude = data_request[\"latitude\"][1],\n",
    "    #     start_datetime = data_request[\"time\"][0],\n",
    "    #     end_datetime = data_request[\"time\"][1],\n",
    "    #     variables = data_request[\"variables\"]\n",
    "    # )\n",
    "\n",
    "    # Load dataframe\n",
    "    df = copernicusmarine.read_dataframe(\n",
    "        dataset_id = data_request[\"dataset_id\"],\n",
    "        minimum_longitude = data_request[\"longitude\"][0],\n",
    "        maximum_longitude = data_request[\"longitude\"][1],\n",
    "        minimum_latitude = data_request[\"latitude\"][0],\n",
    "        maximum_latitude = data_request[\"latitude\"][1],\n",
    "        start_datetime = data_request[\"time\"][0],\n",
    "        end_datetime = data_request[\"time\"][1],\n",
    "        variables = data_request[\"variables\"]\n",
    "    )\n",
    "    \n",
    "    # Print loaded dataset information\n",
    "    return df\n",
    "\n",
    "# set time\n",
    "tlo = datetime.datetime.now().isoformat()\n",
    "thi = (datetime.datetime.now() + datetime.timedelta(days=7)).isoformat()\n",
    "\n",
    "# load\n",
    "# dset = _load_ocean_model(bounds[0], bounds[1], bounds[2], bounds[3], tlo ,thi)\n",
    "df = _load_ocean_model(bounds[0], bounds[1], bounds[2], bounds[3], tlo ,thi)"
   ]
  },
  {
   "cell_type": "code",
   "execution_count": 5,
   "id": "2f00c196-cd33-46e8-b14a-8768b31eeea1",
   "metadata": {},
   "outputs": [],
   "source": [
    "# plt.imshow(dset['thetao'][3,:,:])"
   ]
  },
  {
   "cell_type": "code",
   "execution_count": 6,
   "id": "31bf0f8f-7365-4544-8387-ed8fc923246d",
   "metadata": {},
   "outputs": [],
   "source": [
    "df_flat = df.reset_index().dropna(subset=['thetao']).reset_index()"
   ]
  },
  {
   "cell_type": "code",
   "execution_count": 7,
   "id": "cb04a48d-3903-468a-a68f-505fd8db889d",
   "metadata": {},
   "outputs": [
    {
     "data": {
      "text/html": [
       "<div>\n",
       "<style scoped>\n",
       "    .dataframe tbody tr th:only-of-type {\n",
       "        vertical-align: middle;\n",
       "    }\n",
       "\n",
       "    .dataframe tbody tr th {\n",
       "        vertical-align: top;\n",
       "    }\n",
       "\n",
       "    .dataframe thead th {\n",
       "        text-align: right;\n",
       "    }\n",
       "</style>\n",
       "<table border=\"1\" class=\"dataframe\">\n",
       "  <thead>\n",
       "    <tr style=\"text-align: right;\">\n",
       "      <th></th>\n",
       "      <th>index</th>\n",
       "      <th>time</th>\n",
       "      <th>latitude</th>\n",
       "      <th>longitude</th>\n",
       "      <th>thetao</th>\n",
       "    </tr>\n",
       "  </thead>\n",
       "  <tbody>\n",
       "    <tr>\n",
       "      <th>0</th>\n",
       "      <td>1</td>\n",
       "      <td>2025-05-12 15:00:00</td>\n",
       "      <td>42.554749</td>\n",
       "      <td>-8.915863</td>\n",
       "      <td>17.249</td>\n",
       "    </tr>\n",
       "    <tr>\n",
       "      <th>1</th>\n",
       "      <td>18</td>\n",
       "      <td>2025-05-12 15:00:00</td>\n",
       "      <td>42.610306</td>\n",
       "      <td>-8.832527</td>\n",
       "      <td>17.631</td>\n",
       "    </tr>\n",
       "    <tr>\n",
       "      <th>2</th>\n",
       "      <td>19</td>\n",
       "      <td>2025-05-12 15:00:00</td>\n",
       "      <td>42.610306</td>\n",
       "      <td>-8.804748</td>\n",
       "      <td>17.606</td>\n",
       "    </tr>\n",
       "    <tr>\n",
       "      <th>3</th>\n",
       "      <td>36</td>\n",
       "      <td>2025-05-12 16:00:00</td>\n",
       "      <td>42.554749</td>\n",
       "      <td>-8.915863</td>\n",
       "      <td>17.403</td>\n",
       "    </tr>\n",
       "    <tr>\n",
       "      <th>4</th>\n",
       "      <td>53</td>\n",
       "      <td>2025-05-12 16:00:00</td>\n",
       "      <td>42.610306</td>\n",
       "      <td>-8.832527</td>\n",
       "      <td>17.767</td>\n",
       "    </tr>\n",
       "    <tr>\n",
       "      <th>...</th>\n",
       "      <td>...</td>\n",
       "      <td>...</td>\n",
       "      <td>...</td>\n",
       "      <td>...</td>\n",
       "      <td>...</td>\n",
       "    </tr>\n",
       "    <tr>\n",
       "      <th>499</th>\n",
       "      <td>5828</td>\n",
       "      <td>2025-05-19 13:00:00</td>\n",
       "      <td>42.610306</td>\n",
       "      <td>-8.832527</td>\n",
       "      <td>18.127</td>\n",
       "    </tr>\n",
       "    <tr>\n",
       "      <th>500</th>\n",
       "      <td>5829</td>\n",
       "      <td>2025-05-19 13:00:00</td>\n",
       "      <td>42.610306</td>\n",
       "      <td>-8.804748</td>\n",
       "      <td>18.070</td>\n",
       "    </tr>\n",
       "    <tr>\n",
       "      <th>501</th>\n",
       "      <td>5846</td>\n",
       "      <td>2025-05-19 14:00:00</td>\n",
       "      <td>42.554749</td>\n",
       "      <td>-8.915863</td>\n",
       "      <td>18.097</td>\n",
       "    </tr>\n",
       "    <tr>\n",
       "      <th>502</th>\n",
       "      <td>5863</td>\n",
       "      <td>2025-05-19 14:00:00</td>\n",
       "      <td>42.610306</td>\n",
       "      <td>-8.832527</td>\n",
       "      <td>18.160</td>\n",
       "    </tr>\n",
       "    <tr>\n",
       "      <th>503</th>\n",
       "      <td>5864</td>\n",
       "      <td>2025-05-19 14:00:00</td>\n",
       "      <td>42.610306</td>\n",
       "      <td>-8.804748</td>\n",
       "      <td>18.107</td>\n",
       "    </tr>\n",
       "  </tbody>\n",
       "</table>\n",
       "<p>504 rows × 5 columns</p>\n",
       "</div>"
      ],
      "text/plain": [
       "     index                time   latitude  longitude  thetao\n",
       "0        1 2025-05-12 15:00:00  42.554749  -8.915863  17.249\n",
       "1       18 2025-05-12 15:00:00  42.610306  -8.832527  17.631\n",
       "2       19 2025-05-12 15:00:00  42.610306  -8.804748  17.606\n",
       "3       36 2025-05-12 16:00:00  42.554749  -8.915863  17.403\n",
       "4       53 2025-05-12 16:00:00  42.610306  -8.832527  17.767\n",
       "..     ...                 ...        ...        ...     ...\n",
       "499   5828 2025-05-19 13:00:00  42.610306  -8.832527  18.127\n",
       "500   5829 2025-05-19 13:00:00  42.610306  -8.804748  18.070\n",
       "501   5846 2025-05-19 14:00:00  42.554749  -8.915863  18.097\n",
       "502   5863 2025-05-19 14:00:00  42.610306  -8.832527  18.160\n",
       "503   5864 2025-05-19 14:00:00  42.610306  -8.804748  18.107\n",
       "\n",
       "[504 rows x 5 columns]"
      ]
     },
     "execution_count": 7,
     "metadata": {},
     "output_type": "execute_result"
    }
   ],
   "source": [
    "df_flat"
   ]
  },
  {
   "cell_type": "code",
   "execution_count": 8,
   "id": "1e9ffe63-0008-474b-aa0f-f18141a25a6e",
   "metadata": {},
   "outputs": [],
   "source": [
    "# df_flat['STATE'] = df_flat[df_flat.thetao>17.6]\n",
    "df_flat['state'] = df_flat.thetao.apply(lambda thetao: 'ALARM' if thetao>18.9 else 'NOMINAL')"
   ]
  },
  {
   "cell_type": "code",
   "execution_count": 9,
   "id": "e3379ad6-6af1-4610-a103-26da02e2cfaa",
   "metadata": {},
   "outputs": [
    {
     "data": {
      "text/html": [
       "<div>\n",
       "<style scoped>\n",
       "    .dataframe tbody tr th:only-of-type {\n",
       "        vertical-align: middle;\n",
       "    }\n",
       "\n",
       "    .dataframe tbody tr th {\n",
       "        vertical-align: top;\n",
       "    }\n",
       "\n",
       "    .dataframe thead th {\n",
       "        text-align: right;\n",
       "    }\n",
       "</style>\n",
       "<table border=\"1\" class=\"dataframe\">\n",
       "  <thead>\n",
       "    <tr style=\"text-align: right;\">\n",
       "      <th></th>\n",
       "      <th>index</th>\n",
       "      <th>time</th>\n",
       "      <th>latitude</th>\n",
       "      <th>longitude</th>\n",
       "      <th>thetao</th>\n",
       "      <th>state</th>\n",
       "    </tr>\n",
       "  </thead>\n",
       "  <tbody>\n",
       "    <tr>\n",
       "      <th>365</th>\n",
       "      <td>4254</td>\n",
       "      <td>2025-05-17 16:00:00</td>\n",
       "      <td>42.610306</td>\n",
       "      <td>-8.804748</td>\n",
       "      <td>18.958</td>\n",
       "      <td>ALARM</td>\n",
       "    </tr>\n",
       "    <tr>\n",
       "      <th>368</th>\n",
       "      <td>4289</td>\n",
       "      <td>2025-05-17 17:00:00</td>\n",
       "      <td>42.610306</td>\n",
       "      <td>-8.804748</td>\n",
       "      <td>18.931</td>\n",
       "      <td>ALARM</td>\n",
       "    </tr>\n",
       "  </tbody>\n",
       "</table>\n",
       "</div>"
      ],
      "text/plain": [
       "     index                time   latitude  longitude  thetao  state\n",
       "365   4254 2025-05-17 16:00:00  42.610306  -8.804748  18.958  ALARM\n",
       "368   4289 2025-05-17 17:00:00  42.610306  -8.804748  18.931  ALARM"
      ]
     },
     "execution_count": 9,
     "metadata": {},
     "output_type": "execute_result"
    }
   ],
   "source": [
    "df_flat[df_flat.state=='ALARM']"
   ]
  },
  {
   "cell_type": "code",
   "execution_count": null,
   "id": "11330a37-d824-4f52-a299-68b422f9e2a6",
   "metadata": {},
   "outputs": [],
   "source": []
  }
 ],
 "metadata": {
  "kernelspec": {
   "display_name": "Python 3 (ipykernel)",
   "language": "python",
   "name": "python3"
  },
  "language_info": {
   "codemirror_mode": {
    "name": "ipython",
    "version": 3
   },
   "file_extension": ".py",
   "mimetype": "text/x-python",
   "name": "python",
   "nbconvert_exporter": "python",
   "pygments_lexer": "ipython3",
   "version": "3.11.12"
  }
 },
 "nbformat": 4,
 "nbformat_minor": 5
}
